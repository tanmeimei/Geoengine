{
 "cells": [
  {
   "cell_type": "code",
   "execution_count": 20,
   "metadata": {},
   "outputs": [],
   "source": [
    "import numpy as np\n",
    "import matplotlib.pyplot as plt"
   ]
  },
  {
   "cell_type": "code",
   "execution_count": 21,
   "metadata": {},
   "outputs": [
    {
     "name": "stdout",
     "output_type": "stream",
     "text": [
      "RK3:9.05541648169979\n",
      "RK4:9.059361005942419\n"
     ]
    },
    {
     "data": {
      "image/png": "[encoded data removed]",
      "text/plain": [
       "<Figure size 432x288 with 1 Axes>"
      ]
     },
     "metadata": {
      "needs_background": "light"
     },
     "output_type": "display_data"
    }
   ],
   "source": [
    "#ODE\n",
    "def f(t,y):\n",
    "    return -2*t*y/(y*y-t*t)\n",
    "\n",
    "#Runge-Kutta 3rd order\n",
    "def RK3(y0,t0,h):\n",
    "    k1=f(y0,t0)\n",
    "    k2=f(y0+h/2*k1,t0+h/2)\n",
    "    k3=f(y0-h*k1+2*h*k2,t0+h)\n",
    "    return y0+h/6*(k1+4*k2+k3)\n",
    "\n",
    "#Runge-Kutta 4th order\n",
    "def RK4(y0,t0,h):\n",
    "    k1=f(y0,t0)\n",
    "    k2=f(y0+h/2*k1,t0+h/2)\n",
    "    k3=f(y0+h/2*k2,t0+h/2)\n",
    "    k4=f(y0+h*k3,t0+h)\n",
    "    return y0+h/6*(k1+2*k2+2*k3+k4)\n",
    "\n",
    "#main\n",
    "y0=4\n",
    "t0=0\n",
    "h=1\n",
    "t=t0\n",
    "tempy3=y0\n",
    "tempy4=y0\n",
    "y_3=np.zeros(5)\n",
    "y_4=np.zeros(5)\n",
    "x_t=np.arange(5)\n",
    "while t<5:\n",
    "    y_3[t]=RK3(tempy3,t,h)\n",
    "    y_4[t]=RK4(tempy4,t,h)\n",
    "    tempy3=y_3[t]\n",
    "    tempy4=y_4[t]\n",
    "    t=t+1\n",
    "\n",
    "print('RK3:'+np.str(y_3[4]))\n",
    "print('RK4:'+np.str(y_4[4]))\n",
    "\n",
    "#plt.figure(1,figsize=(12, 9))\n",
    "plt.plot(x_t,y_3,'o-',label='RK3')\n",
    "plt.plot(x_t,y_4,'v-',label='RK4')\n",
    "plt.legend()\n",
    "plt.show()"
   ]
  },
  {
   "cell_type": "code",
   "execution_count": null,
   "metadata": {},
   "outputs": [],
   "source": []
  }
 ],
 "metadata": {
  "kernelspec": {
   "display_name": "Python 3",
   "language": "python",
   "name": "python3"
  },
  "language_info": {
   "codemirror_mode": {
    "name": "ipython",
    "version": 3
   },
   "file_extension": ".py",
   "mimetype": "text/x-python",
   "name": "python",
   "nbconvert_exporter": "python",
   "pygments_lexer": "ipython3",
   "version": "3.7.1"
  }
 },
 "nbformat": 4,
 "nbformat_minor": 2
}
